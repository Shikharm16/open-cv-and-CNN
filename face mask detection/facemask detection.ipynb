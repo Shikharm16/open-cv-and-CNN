{
 "cells": [
  {
   "cell_type": "markdown",
   "metadata": {},
   "source": [
    "Importing open-cv, numpy and harcascade file for face detction"
   ]
  },
  {
   "cell_type": "code",
   "execution_count": null,
   "metadata": {},
   "outputs": [],
   "source": [
    "import cv2\n",
    "import numpy as np\n",
    "face_cascade=cv2.CascadeClassifier(\"haarcascade_frontalface_default.xml\")"
   ]
  },
  {
   "cell_type": "markdown",
   "metadata": {},
   "source": [
    "Defining show image function to display image"
   ]
  },
  {
   "cell_type": "code",
   "execution_count": null,
   "metadata": {},
   "outputs": [],
   "source": [
    "def show_image(img):    \n",
    "    cv2.imshow('image',img)\n",
    "    cv2.waitKey(0)\n",
    "    cv2.destroyAllWindows()"
   ]
  },
  {
   "cell_type": "markdown",
   "metadata": {},
   "source": [
    "Take picture from web-cam"
   ]
  },
  {
   "cell_type": "code",
   "execution_count": null,
   "metadata": {},
   "outputs": [],
   "source": [
    "def take_picture():   \n",
    "    cap = cv2.VideoCapture(0)\n",
    "    while 1:\n",
    "        ret, img = cap.read()\n",
    "        gray = cv2.cvtColor(img, cv2.COLOR_BGR2GRAY)\n",
    "        faces = face_cascade.detectMultiScale(gray, 1.2,3)\n",
    "        #print(faces)\n",
    "        for (x,y,w,h) in faces:\n",
    "            cv2.rectangle(img,(x,y),(x+w,y+h),(255,0,0),2)\n",
    "            roi_gray = gray[y:y+h, x:x+w]\n",
    "            roi_color = img[y:y+h, x:x+w]\n",
    "        cv2.imshow('img',img)\n",
    "\n",
    "        if cv2.waitKey(1)==27:\n",
    "            break\n",
    "\n",
    "    cap.release()\n",
    "    cv2.destroyAllWindows()\n",
    "    return roi_color\n",
    "#take_picture()"
   ]
  },
  {
   "cell_type": "markdown",
   "metadata": {},
   "source": [
    "importing all required modules "
   ]
  },
  {
   "cell_type": "code",
   "execution_count": null,
   "metadata": {},
   "outputs": [],
   "source": [
    "from keras.layers import Dense,Flatten\n",
    "from keras.layers import Conv2D, MaxPooling2D\n",
    "from keras.models import Sequential\n",
    "from keras.layers.normalization import BatchNormalization\n",
    "from keras.layers import Activation,Dropout"
   ]
  },
  {
   "cell_type": "markdown",
   "metadata": {},
   "source": [
    "Defining Model"
   ]
  },
  {
   "cell_type": "code",
   "execution_count": null,
   "metadata": {},
   "outputs": [],
   "source": [
    "def create_model():\n",
    "    model=Sequential()\n",
    "    \n",
    "    model.add(Conv2D(32, (3, 3), activation='relu', input_shape=(210, 210, 3)))\n",
    "    model.add(MaxPooling2D(pool_size=(2,2), strides=(2, 2)))\n",
    "    \n",
    "    model.add(Conv2D(64, (3, 3),activation='relu'))\n",
    "    model.add(MaxPooling2D(pool_size=(2,2), strides=(2, 2)))\n",
    "\n",
    "    \n",
    "    model.add(Conv2D(128, (3, 3),activation='relu'))\n",
    "    model.add(MaxPooling2D(pool_size=(2,2), strides=(2, 2)))\n",
    "\n",
    "    \n",
    "    model.add(Flatten())\n",
    "    model.add(Dense(128, activation='relu'))\n",
    "\n",
    "    model.add(Dense(1, activation='sigmoid'))\n",
    "    \n",
    "    model.compile(optimizer='adam',loss='binary_crossentropy',metrics=['accuracy'])\n",
    "    return model\n",
    "    \n",
    "\n",
    "model=create_model()    "
   ]
  },
  {
   "cell_type": "code",
   "execution_count": null,
   "metadata": {},
   "outputs": [],
   "source": [
    "model.summary()"
   ]
  },
  {
   "cell_type": "markdown",
   "metadata": {},
   "source": [
    "Data Augmentation and reading data"
   ]
  },
  {
   "cell_type": "code",
   "execution_count": null,
   "metadata": {},
   "outputs": [],
   "source": [
    "import tensorflow\n",
    "from keras.preprocessing.image import ImageDataGenerator\n",
    "\n",
    "train_datagen = ImageDataGenerator(\n",
    "    rotation_range=30,width_shift_range=0.2,height_shift_range=0.2,\n",
    "        fill_mode='nearest',\n",
    "        rescale=1./255,\n",
    "        shear_range=0.2,\n",
    "        zoom_range=0.2,\n",
    "        horizontal_flip=True)\n",
    "\n",
    "test_datagen = ImageDataGenerator(\n",
    "    rotation_range=30,width_shift_range=0.2,height_shift_range=0.2,\n",
    "        fill_mode='nearest',\n",
    "        rescale=1./255,\n",
    "        shear_range=0.2,\n",
    "        zoom_range=0.2,\n",
    "        horizontal_flip=True)\n",
    "\n",
    "train_generator = train_datagen.flow_from_directory(\n",
    "        './MASK_DETECTION/train/',\n",
    "        target_size=(210, 210),\n",
    "        class_mode='binary',\n",
    "        batch_size=16)\n",
    "\n",
    "validation_generator = test_datagen.flow_from_directory(\n",
    "        './MASK_DETECTION/test/',\n",
    "        target_size=(210, 210),\n",
    "        class_mode='binary',\n",
    "        batch_size=16)\n",
    "\n"
   ]
  },
  {
   "cell_type": "markdown",
   "metadata": {},
   "source": [
    "Model fit"
   ]
  },
  {
   "cell_type": "code",
   "execution_count": null,
   "metadata": {},
   "outputs": [],
   "source": [
    "model.fit_generator(\n",
    "        train_generator,\n",
    "        epochs=10,\n",
    "        validation_data=validation_generator,)"
   ]
  },
  {
   "cell_type": "code",
   "execution_count": null,
   "metadata": {},
   "outputs": [],
   "source": [
    "model.save(\"main.h5\")"
   ]
  },
  {
   "cell_type": "markdown",
   "metadata": {},
   "source": [
    "Live data prediction"
   ]
  },
  {
   "cell_type": "code",
   "execution_count": null,
   "metadata": {},
   "outputs": [],
   "source": [
    "roi=take_picture()\n",
    "#roi=cv2.imread('./Desktop/poen-cv/MASK_DETECTION/test/without_mask/9.jpg')\n",
    "show_image(roi)\n",
    "print(roi.shape)\n",
    "\n",
    "resized=cv2.resize(roi,(210,210))\n",
    "print(resized.shape)\n",
    "show_image(resized)\n",
    "s=np.reshape(resized,(1,210,210,3))\n",
    "\n",
    "print(s.shape)\n",
    "y=model.predict_classes(s)\n",
    "print(y)"
   ]
  },
  {
   "cell_type": "code",
   "execution_count": null,
   "metadata": {},
   "outputs": [],
   "source": [
    "from keras.models import load_model"
   ]
  },
  {
   "cell_type": "code",
   "execution_count": null,
   "metadata": {},
   "outputs": [],
   "source": [
    "model=load_model('./main.h5')"
   ]
  },
  {
   "cell_type": "code",
   "execution_count": null,
   "metadata": {},
   "outputs": [],
   "source": [
    "y=model.predict_classes(s)\n",
    "print(y)"
   ]
  },
  {
   "cell_type": "code",
   "execution_count": null,
   "metadata": {},
   "outputs": [],
   "source": [
    "train_generator.class_indices"
   ]
  },
  {
   "cell_type": "code",
   "execution_count": null,
   "metadata": {},
   "outputs": [],
   "source": [
    "model.evaluate_generator(validation_generator)"
   ]
  },
  {
   "cell_type": "markdown",
   "metadata": {},
   "source": [
    "Data Prediction On video"
   ]
  },
  {
   "cell_type": "code",
   "execution_count": null,
   "metadata": {},
   "outputs": [],
   "source": [
    "def predict(img):\n",
    "    \n",
    "    clsno=model.predict_classes(img)\n",
    "    return clsno[0][0]"
   ]
  },
  {
   "cell_type": "code",
   "execution_count": null,
   "metadata": {},
   "outputs": [],
   "source": [
    "def detect_mask(img):\n",
    "    gray_img=cv2.cvtColor(img,cv2.COLOR_BGR2GRAY)\n",
    "    face_classifier=cv2.CascadeClassifier('./haarcascade_frontalface_default.xml')\n",
    "    faces=face_classifier.detectMultiScale(gray_img,1.1,3)\n",
    "    faceimg=img\n",
    "    if faces is ():\n",
    "        print(\"No face Found\")\n",
    "        return img\n",
    "    else:\n",
    "        for ( x,y,w,h) in faces:\n",
    "            r = max(w, h) / 2\n",
    "            centerx = x + w / 2\n",
    "            centery = y + h / 2\n",
    "            xx = int(centerx - r)\n",
    "            yy = int(centery - r)\n",
    "            rr = int(r * 2)\n",
    "            faceimg = img[yy:yy+rr, xx:xx+rr]\n",
    "            faceimg=cv2.resize(faceimg,(210,210))\n",
    "            faceimg=faceimg.reshape((1,210,210,3))\n",
    "            faceimg=faceimg/255.0\n",
    "            class_number=predict(faceimg)\n",
    "            string=''\n",
    "            \n",
    "            if(class_number==0):\n",
    "                string='Mask'\n",
    "                new_img=cv2.rectangle(img,(x,y),(x+w,y+h),(0,255,0),3)\n",
    "                new_img=cv2.putText(new_img,string,(x-10,y),cv2.FONT_HERSHEY_PLAIN,3,(0,255,0),2)\n",
    "            else:\n",
    "                string='No Mask'\n",
    "                new_img=cv2.rectangle(img,(x,y),(x+w,y+h),(0,0,255),3)\n",
    "                new_img=cv2.putText(new_img,string,(x-10,y),cv2.FONT_HERSHEY_PLAIN,3,(0,0,255),2)\n",
    "            \n",
    "                \n",
    "    return new_img"
   ]
  },
  {
   "cell_type": "code",
   "execution_count": null,
   "metadata": {},
   "outputs": [],
   "source": [
    "cap=cv2.VideoCapture(0)\n",
    "while 1:\n",
    "    ret,frame=cap.read()\n",
    "\n",
    "    cv2.imshow(\"Video\",detect(frame))\n",
    "    if(cv2.waitKey(3)==27):\n",
    "        break\n",
    "cv2.destroyAllWindows()\n",
    "cap.release()"
   ]
  },
  {
   "cell_type": "code",
   "execution_count": null,
   "metadata": {},
   "outputs": [],
   "source": []
  }
 ],
 "metadata": {
  "kernelspec": {
   "display_name": "Python 3",
   "language": "python",
   "name": "python3"
  },
  "language_info": {
   "codemirror_mode": {
    "name": "ipython",
    "version": 3
   },
   "file_extension": ".py",
   "mimetype": "text/x-python",
   "name": "python",
   "nbconvert_exporter": "python",
   "pygments_lexer": "ipython3",
   "version": "3.7.6"
  }
 },
 "nbformat": 4,
 "nbformat_minor": 4
}
