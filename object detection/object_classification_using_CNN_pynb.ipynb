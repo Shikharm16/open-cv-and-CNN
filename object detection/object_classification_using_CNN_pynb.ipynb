{
 "cells": [
  {
   "cell_type": "markdown",
   "metadata": {
    "colab_type": "text",
    "id": "3IZfo4rhBR1J"
   },
   "source": [
    "# Object Classification"
   ]
  },
  {
   "cell_type": "markdown",
   "metadata": {
    "colab_type": "text",
    "id": "Iw-RIM84BYik"
   },
   "source": [
    "### **Exteracting Zip Files**"
   ]
  },
  {
   "cell_type": "code",
   "execution_count": 0,
   "metadata": {
    "colab": {
     "base_uri": "https://localhost:8080/",
     "height": 34
    },
    "colab_type": "code",
    "id": "PXAAnbMuG_QX",
    "outputId": "d7a1f753-cbb8-4e8a-880a-a52c1391a30b"
   },
   "outputs": [
    {
     "name": "stdout",
     "output_type": "stream",
     "text": [
      "done\n"
     ]
    }
   ],
   "source": [
    "from zipfile import ZipFile\n",
    "fname=\"cifar10classwiseimages.zip\"\n",
    "with ZipFile(fname,'r') as zip:\n",
    "  zip.extractall()\n",
    "  print(\"done\")"
   ]
  },
  {
   "cell_type": "markdown",
   "metadata": {
    "colab_type": "text",
    "id": "GoLh1I3SBe8q"
   },
   "source": [
    "### **Import Open-cv Library**"
   ]
  },
  {
   "cell_type": "code",
   "execution_count": 0,
   "metadata": {
    "colab": {},
    "colab_type": "code",
    "id": "HzaED5JwOgWg"
   },
   "outputs": [],
   "source": [
    "import cv2\n",
    "from google.colab.patches import cv2_imshow\n",
    "from glob import glob\n",
    "import numpy as np"
   ]
  },
  {
   "cell_type": "markdown",
   "metadata": {
    "colab_type": "text",
    "id": "x8gKNFoWBnS9"
   },
   "source": [
    "## Training Data"
   ]
  },
  {
   "cell_type": "code",
   "execution_count": 0,
   "metadata": {
    "colab": {
     "base_uri": "https://localhost:8080/",
     "height": 187
    },
    "colab_type": "code",
    "id": "uv631KVCT7N4",
    "outputId": "c39b9792-0f22-4fd6-c9a2-cd36f8a483fa"
   },
   "outputs": [
    {
     "name": "stdout",
     "output_type": "stream",
     "text": [
      "0\n",
      "1\n",
      "2\n",
      "3\n",
      "4\n",
      "5\n",
      "6\n",
      "7\n",
      "8\n",
      "45000\n"
     ]
    }
   ],
   "source": [
    "import cv2\n",
    "from google.colab.patches import cv2_imshow\n",
    "from glob import glob\n",
    "import numpy as np\n",
    "img_pixels_train=np.zeros((45000,32,32))\n",
    "labels_train=np.zeros((45000,))\n",
    "images=['0','1','2','3','4','5','6','7','8']\n",
    "i=0\n",
    "for j in range(len(images)):\n",
    "  \n",
    "  print(images[j])\n",
    "  data_db=images[j]\n",
    "  img_dbb=glob('cifar/train/'+data_db+'/*.png')\n",
    "  \n",
    "  for k in img_dbb:\n",
    "    img=cv2.imread(k,1)\n",
    "    gray = cv2.cvtColor(img, cv2.COLOR_BGR2GRAY)\n",
    "      \n",
    "    img_pixels_train[i]=gray\n",
    "    labels_train[i]=j\n",
    "    i+=1\n",
    "\n",
    "print(i)"
   ]
  },
  {
   "cell_type": "markdown",
   "metadata": {
    "colab_type": "text",
    "id": "wd6zfSZnBrim"
   },
   "source": [
    "**Shape of train samples and Train labels**"
   ]
  },
  {
   "cell_type": "code",
   "execution_count": 0,
   "metadata": {
    "colab": {
     "base_uri": "https://localhost:8080/",
     "height": 51
    },
    "colab_type": "code",
    "id": "Pjn5I8_Tjolg",
    "outputId": "9a63e27d-e060-432a-f7da-aab2f5bad597"
   },
   "outputs": [
    {
     "name": "stdout",
     "output_type": "stream",
     "text": [
      "(45000, 32, 32)\n",
      "(45000,)\n"
     ]
    }
   ],
   "source": [
    "print((img_pixels_train.shape))\n",
    "#abels=labels.reshape(920,1)\n",
    "print(labels_train.shape)"
   ]
  },
  {
   "cell_type": "markdown",
   "metadata": {
    "colab_type": "text",
    "id": "1ZIywaMSB0IC"
   },
   "source": [
    "## Testing Data"
   ]
  },
  {
   "cell_type": "code",
   "execution_count": 0,
   "metadata": {
    "colab": {
     "base_uri": "https://localhost:8080/",
     "height": 187
    },
    "colab_type": "code",
    "id": "JjwAcoYvPhnA",
    "outputId": "ccabe70a-15cd-48e2-f6b6-5fc4b58cc55e"
   },
   "outputs": [
    {
     "name": "stdout",
     "output_type": "stream",
     "text": [
      "0\n",
      "1\n",
      "2\n",
      "3\n",
      "4\n",
      "5\n",
      "6\n",
      "7\n",
      "8\n",
      "9000\n"
     ]
    }
   ],
   "source": [
    "import cv2\n",
    "from google.colab.patches import cv2_imshow\n",
    "from glob import glob\n",
    "import numpy as np\n",
    "img_pixels_test=np.zeros((9000,32,32))\n",
    "labels_test=np.zeros((9000,))\n",
    "images=['0','1','2','3','4','5','6','7','8']\n",
    "i=0\n",
    "for j in range(len(images)):\n",
    "  \n",
    "  print(images[j])\n",
    "  data_db=images[j]\n",
    "  img_dbb=glob('cifar/test/'+data_db+'/*.png')\n",
    "  \n",
    "  for k in img_dbb:\n",
    "    img=cv2.imread(k,1)\n",
    "    gray = cv2.cvtColor(img, cv2.COLOR_BGR2GRAY)\n",
    "      \n",
    "    img_pixels_test[i]=gray\n",
    "    labels_test[i]=j\n",
    "    i+=1\n",
    "\n",
    "print(i)"
   ]
  },
  {
   "cell_type": "markdown",
   "metadata": {
    "colab_type": "text",
    "id": "YDGlJLxhB7v6"
   },
   "source": [
    "**Shape of test sample and test labels**"
   ]
  },
  {
   "cell_type": "code",
   "execution_count": 0,
   "metadata": {
    "colab": {
     "base_uri": "https://localhost:8080/",
     "height": 51
    },
    "colab_type": "code",
    "id": "sSTjzjQLQWCH",
    "outputId": "0ea19f12-9f68-4293-dd68-3ef4599e7cb2"
   },
   "outputs": [
    {
     "name": "stdout",
     "output_type": "stream",
     "text": [
      "(9000, 32, 32)\n",
      "(9000,)\n"
     ]
    }
   ],
   "source": [
    "print((img_pixels_test.shape))\n",
    "#abels=labels.reshape(920,1)\n",
    "print(labels_test.shape)"
   ]
  },
  {
   "cell_type": "markdown",
   "metadata": {
    "colab_type": "text",
    "id": "pcj39y-LCB_G"
   },
   "source": [
    "**Convert data type as float**"
   ]
  },
  {
   "cell_type": "code",
   "execution_count": 0,
   "metadata": {
    "colab": {
     "base_uri": "https://localhost:8080/",
     "height": 51
    },
    "colab_type": "code",
    "id": "W9CsvQLYXziU",
    "outputId": "cc07e6c1-4ec4-4980-e527-cc4c5a00707a"
   },
   "outputs": [
    {
     "name": "stdout",
     "output_type": "stream",
     "text": [
      "(45000, 32, 32)\n",
      "(9000, 32, 32)\n"
     ]
    }
   ],
   "source": [
    "def convert_dtype(x):\n",
    "    \n",
    "    x_float = x.astype('float32')\n",
    "    return x_float\n",
    "\n",
    "train_samples = convert_dtype(img_pixels_train)\n",
    "test_samples = convert_dtype(img_pixels_test)\n",
    "print(train_samples.shape)\n",
    "print(test_samples.shape)"
   ]
  },
  {
   "cell_type": "markdown",
   "metadata": {
    "colab_type": "text",
    "id": "MnxsJG9fCGLY"
   },
   "source": [
    "**Normalizing the data between 0-1**"
   ]
  },
  {
   "cell_type": "code",
   "execution_count": 0,
   "metadata": {
    "colab": {
     "base_uri": "https://localhost:8080/",
     "height": 51
    },
    "colab_type": "code",
    "id": "V8qfLFKeXzer",
    "outputId": "446d144f-0683-4d1f-ec5a-21e64d86cbfb"
   },
   "outputs": [
    {
     "name": "stdout",
     "output_type": "stream",
     "text": [
      "(45000, 32, 32)\n",
      "(9000, 32, 32)\n"
     ]
    }
   ],
   "source": [
    "def normalize(x):\n",
    "    \n",
    "    x_n=x/255\n",
    "    return x_n\n",
    "    \n",
    "train_samples = normalize(train_samples)\n",
    "test_samples = normalize(test_samples)\n",
    "print(train_samples.shape)\n",
    "print(test_samples.shape)"
   ]
  },
  {
   "cell_type": "markdown",
   "metadata": {
    "colab_type": "text",
    "id": "3VLWU-FuCQlJ"
   },
   "source": [
    "**One hot encoding of train and test labels**"
   ]
  },
  {
   "cell_type": "code",
   "execution_count": 0,
   "metadata": {
    "colab": {
     "base_uri": "https://localhost:8080/",
     "height": 51
    },
    "colab_type": "code",
    "id": "zitwVrZQXzc8",
    "outputId": "4b63b33c-622a-42c3-af69-c2208b37d2cb"
   },
   "outputs": [
    {
     "name": "stdout",
     "output_type": "stream",
     "text": [
      "[0. 0. 0. 0. 0. 0. 0. 1. 0.]\n",
      "(9000, 9)\n"
     ]
    }
   ],
   "source": [
    "def oneHot(y, Ny):\n",
    "    \n",
    "    from keras.utils import to_categorical\n",
    "    y_oh=to_categorical(y,Ny)\n",
    "    return y_oh\n",
    "\n",
    "\n",
    "train_labels = oneHot(labels_train, 9)\n",
    "test_labels = oneHot(labels_test, 9)\n",
    "print(train_labels[39000])\n",
    "print(test_labels.shape)"
   ]
  },
  {
   "cell_type": "markdown",
   "metadata": {
    "colab_type": "text",
    "id": "bLe9OOiYCWam"
   },
   "source": [
    "**Reshape the data**"
   ]
  },
  {
   "cell_type": "code",
   "execution_count": 0,
   "metadata": {
    "colab": {
     "base_uri": "https://localhost:8080/",
     "height": 85
    },
    "colab_type": "code",
    "id": "iQJ1mp_2XzOg",
    "outputId": "73fca8ce-c80f-424a-fe37-b53ae7c2cdfe"
   },
   "outputs": [
    {
     "name": "stdout",
     "output_type": "stream",
     "text": [
      "(45000, 32, 32)\n",
      "(45000, 32, 32, 1)\n",
      "(9000, 32, 32)\n",
      "(9000, 32, 32, 1)\n"
     ]
    }
   ],
   "source": [
    "def reshape(x):\n",
    "    \n",
    "    print(x.shape)\n",
    "    x_r=x.reshape(x.shape[0], x.shape[1], x.shape[2], 1)\n",
    "    return x_r\n",
    "\n",
    "train_samples = reshape(train_samples)\n",
    "print(train_samples.shape)\n",
    "\n",
    "test_samples = reshape(test_samples)\n",
    "print(test_samples.shape)"
   ]
  },
  {
   "cell_type": "markdown",
   "metadata": {
    "colab_type": "text",
    "id": "aqzJuAwqCZoT"
   },
   "source": [
    "# **Keras model using CNN**"
   ]
  },
  {
   "cell_type": "code",
   "execution_count": 0,
   "metadata": {
    "colab": {},
    "colab_type": "code",
    "id": "bZVw9LFPYmur"
   },
   "outputs": [],
   "source": [
    "import keras\n",
    "from keras.layers import Dense,Flatten\n",
    "from keras.layers import Conv2D, MaxPooling2D, AveragePooling2D\n",
    "from keras.models import Sequential\n",
    "from keras.layers.normalization import BatchNormalization\n",
    "from keras.regularizers import l2\n",
    "from keras.layers import Activation\n",
    "from keras.layers import Dropout\n",
    "from keras.callbacks import ReduceLROnPlateau, EarlyStopping, TensorBoard, ModelCheckpoint\n",
    "from keras.layers import Dropout\n",
    "\n",
    "def create_model():\n",
    "    \n",
    "    model=Sequential()\n",
    "    \n",
    "    model.add(Conv2D(32, (3, 3), activation='relu', input_shape=(32,32,1), kernel_regularizer=l2(0.01)))\n",
    "    model.add(Conv2D(32, (3, 3), padding='same',activation='relu'))\n",
    "    model.add(BatchNormalization())\n",
    "    model.add(MaxPooling2D(pool_size=(2,2), strides=(2, 2)))\n",
    "    model.add(Dropout(0.2))    \n",
    "    \n",
    "    model.add(Conv2D(64, (3, 3), padding='same', activation='relu'))\n",
    "    model.add(BatchNormalization())\n",
    "    model.add(Conv2D(64, (3, 3), padding='same', activation='relu'))\n",
    "    model.add(BatchNormalization())\n",
    "    model.add(Conv2D(64, (3, 3), padding='same', activation='relu'))\n",
    "    model.add(BatchNormalization())\n",
    "    model.add(MaxPooling2D(pool_size=(2,2)))\n",
    "    model.add(Dropout(0.2))  \n",
    "    \n",
    "    model.add(Conv2D(128, (3, 3), padding='same', activation='relu'))\n",
    "    model.add(BatchNormalization())\n",
    "    model.add(Conv2D(128, (3, 3), padding='same', activation='relu'))\n",
    "    model.add(MaxPooling2D(pool_size=(2,2)))\n",
    "    \n",
    "    model.add(Flatten())\n",
    "    \n",
    "    \n",
    "    model.add(Dense(128, activation='relu'))\n",
    "    model.add(Dense(9, activation='softmax'))\n",
    "    \n",
    "    \n",
    "    model.compile(optimizer='adam',loss='binary_crossentropy',metrics=['accuracy'])\n",
    "    return model\n",
    "\n",
    "model = create_model()"
   ]
  },
  {
   "cell_type": "markdown",
   "metadata": {
    "colab_type": "text",
    "id": "hYHM9hNSCiJN"
   },
   "source": [
    "## Model Fitting"
   ]
  },
  {
   "cell_type": "code",
   "execution_count": 0,
   "metadata": {
    "colab": {
     "base_uri": "https://localhost:8080/",
     "height": 122
    },
    "colab_type": "code",
    "id": "I3tDMTQQY1aB",
    "outputId": "88b22c82-2e56-4fe1-e64b-74cd1f935d49"
   },
   "outputs": [
    {
     "name": "stdout",
     "output_type": "stream",
     "text": [
      "Train on 40500 samples, validate on 4500 samples\n",
      "Epoch 1/2\n",
      "40500/40500 [==============================] - 386s 10ms/step - loss: 0.2394 - acc: 0.9123 - val_loss: 0.5064 - val_acc: 0.8519\n",
      "Epoch 2/2\n",
      "40500/40500 [==============================] - 385s 10ms/step - loss: 0.1705 - acc: 0.9349 - val_loss: 0.4454 - val_acc: 0.8310\n"
     ]
    }
   ],
   "source": [
    "history = model.fit(train_samples, train_labels, validation_split = 0.1, epochs=2, batch_size=30)"
   ]
  },
  {
   "cell_type": "markdown",
   "metadata": {
    "colab_type": "text",
    "id": "swzhO4QqClWW"
   },
   "source": [
    "### Model summary"
   ]
  },
  {
   "cell_type": "code",
   "execution_count": 0,
   "metadata": {
    "colab": {
     "base_uri": "https://localhost:8080/",
     "height": 816
    },
    "colab_type": "code",
    "id": "oytg1T_IY9Ns",
    "outputId": "0112d14e-2510-46ce-894c-41739b6feffd"
   },
   "outputs": [
    {
     "name": "stdout",
     "output_type": "stream",
     "text": [
      "_________________________________________________________________\n",
      "Layer (type)                 Output Shape              Param #   \n",
      "=================================================================\n",
      "conv2d_43 (Conv2D)           (None, 30, 30, 32)        320       \n",
      "_________________________________________________________________\n",
      "conv2d_44 (Conv2D)           (None, 30, 30, 32)        9248      \n",
      "_________________________________________________________________\n",
      "batch_normalization_31 (Batc (None, 30, 30, 32)        128       \n",
      "_________________________________________________________________\n",
      "max_pooling2d_19 (MaxPooling (None, 15, 15, 32)        0         \n",
      "_________________________________________________________________\n",
      "dropout_13 (Dropout)         (None, 15, 15, 32)        0         \n",
      "_________________________________________________________________\n",
      "conv2d_45 (Conv2D)           (None, 15, 15, 64)        18496     \n",
      "_________________________________________________________________\n",
      "batch_normalization_32 (Batc (None, 15, 15, 64)        256       \n",
      "_________________________________________________________________\n",
      "conv2d_46 (Conv2D)           (None, 15, 15, 64)        36928     \n",
      "_________________________________________________________________\n",
      "batch_normalization_33 (Batc (None, 15, 15, 64)        256       \n",
      "_________________________________________________________________\n",
      "conv2d_47 (Conv2D)           (None, 15, 15, 64)        36928     \n",
      "_________________________________________________________________\n",
      "batch_normalization_34 (Batc (None, 15, 15, 64)        256       \n",
      "_________________________________________________________________\n",
      "max_pooling2d_20 (MaxPooling (None, 7, 7, 64)          0         \n",
      "_________________________________________________________________\n",
      "dropout_14 (Dropout)         (None, 7, 7, 64)          0         \n",
      "_________________________________________________________________\n",
      "conv2d_48 (Conv2D)           (None, 7, 7, 128)         73856     \n",
      "_________________________________________________________________\n",
      "batch_normalization_35 (Batc (None, 7, 7, 128)         512       \n",
      "_________________________________________________________________\n",
      "conv2d_49 (Conv2D)           (None, 7, 7, 128)         147584    \n",
      "_________________________________________________________________\n",
      "max_pooling2d_21 (MaxPooling (None, 3, 3, 128)         0         \n",
      "_________________________________________________________________\n",
      "flatten_7 (Flatten)          (None, 1152)              0         \n",
      "_________________________________________________________________\n",
      "dense_15 (Dense)             (None, 128)               147584    \n",
      "_________________________________________________________________\n",
      "dense_16 (Dense)             (None, 9)                 1161      \n",
      "=================================================================\n",
      "Total params: 473,513\n",
      "Trainable params: 472,809\n",
      "Non-trainable params: 704\n",
      "_________________________________________________________________\n"
     ]
    }
   ],
   "source": [
    "model.summary()"
   ]
  },
  {
   "cell_type": "markdown",
   "metadata": {
    "colab_type": "text",
    "id": "9mxdpqn3Cptv"
   },
   "source": [
    "### **Predicted value**"
   ]
  },
  {
   "cell_type": "code",
   "execution_count": 0,
   "metadata": {
    "colab": {
     "base_uri": "https://localhost:8080/",
     "height": 34
    },
    "colab_type": "code",
    "id": "yQR-UjS6coxN",
    "outputId": "5f990fd5-e2ac-45f6-8e26-f7139485524d"
   },
   "outputs": [
    {
     "name": "stdout",
     "output_type": "stream",
     "text": [
      "(9000, 9)\n"
     ]
    }
   ],
   "source": [
    "y=model.predict(test_samples)\n",
    "print(y.shape)"
   ]
  },
  {
   "cell_type": "markdown",
   "metadata": {
    "colab_type": "text",
    "id": "Dl0qwtxoCtJ9"
   },
   "source": [
    "### **Confusion metrics using Sklearn**"
   ]
  },
  {
   "cell_type": "code",
   "execution_count": 0,
   "metadata": {
    "colab": {
     "base_uri": "https://localhost:8080/",
     "height": 187
    },
    "colab_type": "code",
    "id": "9q1B2HG5cq3J",
    "outputId": "d919a644-7b4f-4bb1-8075-bacc41c37ac6"
   },
   "outputs": [
    {
     "name": "stdout",
     "output_type": "stream",
     "text": [
      "[[892  39  34  19   4   0   2   8   2]\n",
      " [ 31 947   6   6   2   1   3   3   1]\n",
      " [196  26 546 119  12  23  31  47   0]\n",
      " [135  52  97 535  18  33  55  75   0]\n",
      " [175  45 156 156 247  12  61 148   0]\n",
      " [ 85  39 140 291  13 301  21 110   0]\n",
      " [ 53  52  78 134   4   9 655  15   0]\n",
      " [ 65  44  58  56  10   5   9 753   0]\n",
      " [461 333  26  64   0   3  11  10  92]]\n",
      "0.22115873788462745 0.9173086366653442\n"
     ]
    }
   ],
   "source": [
    "from sklearn.metrics import confusion_matrix\n",
    "  \n",
    "cm = confusion_matrix(test_labels.argmax(axis=1), y.argmax(axis=1))\n",
    "print(cm)\n",
    "loss,acc=model.evaluate(test_samples, test_labels,verbose=0)\n",
    "print(loss,acc)\n",
    "           "
   ]
  },
  {
   "cell_type": "markdown",
   "metadata": {
    "colab_type": "text",
    "id": "1QKAvpCkCzil"
   },
   "source": [
    "# Testing the model"
   ]
  },
  {
   "cell_type": "markdown",
   "metadata": {
    "colab_type": "text",
    "id": "pTceTcqlEGEq"
   },
   "source": [
    "**Testing : 1**"
   ]
  },
  {
   "cell_type": "code",
   "execution_count": 0,
   "metadata": {
    "colab": {
     "base_uri": "https://localhost:8080/",
     "height": 85
    },
    "colab_type": "code",
    "id": "SydGn9Kt6EDu",
    "outputId": "d4c58a81-46a3-47f5-ed4d-4f58d55fb3d6"
   },
   "outputs": [
    {
     "name": "stdout",
     "output_type": "stream",
     "text": [
      "(1, 32, 32)\n",
      "(1, 32, 32)\n",
      "(1, 32, 32, 1)\n",
      "[0]\n"
     ]
    }
   ],
   "source": [
    "p=cv2.imread('photo-1529074963764-98f45c47344b.jpg')\n",
    "cv2.imshow(p)\n",
    "\n",
    "gray = cv2.cvtColor(p, cv2.COLOR_BGR2GRAY)\n",
    "gray=cv2.resize(gray,(32,32))\n",
    "gray=gray/255\n",
    "\n",
    "sample = convert_dtype(gray)\n",
    "\n",
    "sample=sample.reshape((1,32,32))\n",
    "\n",
    "sample = reshape(sample)\n",
    "\n",
    "yoyo=model.predict(sample)"
   ]
  },
  {
   "cell_type": "markdown",
   "metadata": {
    "colab_type": "text",
    "id": "yo4q-WMIELp4"
   },
   "source": [
    "**Result :**"
   ]
  },
  {
   "cell_type": "code",
   "execution_count": 0,
   "metadata": {
    "colab": {},
    "colab_type": "code",
    "id": "b6KDPHviEEIi"
   },
   "outputs": [],
   "source": [
    "res=yoyo.argmax(axis=1)\n",
    "print(\"Class of image is : \",images[yoyo])"
   ]
  },
  {
   "cell_type": "markdown",
   "metadata": {
    "colab_type": "text",
    "id": "BniWerfTEOHI"
   },
   "source": [
    "**Testing : 2**"
   ]
  },
  {
   "cell_type": "code",
   "execution_count": 0,
   "metadata": {
    "colab": {
     "base_uri": "https://localhost:8080/",
     "height": 85
    },
    "colab_type": "code",
    "id": "HvgZVJmU6OzE",
    "outputId": "b02dff45-b61b-4bd0-d9de-aa5cd791f3f5"
   },
   "outputs": [
    {
     "name": "stdout",
     "output_type": "stream",
     "text": [
      "(1, 32, 32)\n",
      "(1, 32, 32)\n",
      "(1, 32, 32, 1)\n",
      "[6]\n"
     ]
    }
   ],
   "source": [
    "p=cv2.imread('aHR0cDovL3d3dy5saXZlc2NpZW5jZS5jb20vaW1hZ2VzL2kvMDAwLzA5Ni8yODEvb3JpZ2luYWwvd2hpdGUtdHJlZS1mcm9nLmpwZw==.webp.png')\n",
    "cv2.imshow(p)\n",
    "\n",
    "gray = cv2.cvtColor(p, cv2.COLOR_BGR2GRAY)\n",
    "gray=cv2.resize(gray,(32,32))\n",
    "gray=gray/255\n",
    "\n",
    "sample = convert_dtype(gray)\n",
    "\n",
    "sample=sample.reshape((1,32,32))\n",
    "\n",
    "sample = reshape(sample)\n",
    "\n",
    "yoyo=model.predict(sample)\n"
   ]
  },
  {
   "cell_type": "markdown",
   "metadata": {
    "colab_type": "text",
    "id": "awrvrQr-EXrn"
   },
   "source": [
    "**Result :**"
   ]
  },
  {
   "cell_type": "code",
   "execution_count": 0,
   "metadata": {
    "colab": {},
    "colab_type": "code",
    "id": "2KqynHfN8bnZ"
   },
   "outputs": [],
   "source": [
    "res=yoyo.argmax(axis=1)\n",
    "print(\"Class of image is : \",images[yoyo])"
   ]
  }
 ],
 "metadata": {
  "colab": {
   "collapsed_sections": [],
   "name": "object_classification_using_CNN.pynb",
   "provenance": [],
   "version": "0.3.2"
  },
  "kernelspec": {
   "display_name": "Python 3",
   "language": "python",
   "name": "python3"
  },
  "language_info": {
   "codemirror_mode": {
    "name": "ipython",
    "version": 3
   },
   "file_extension": ".py",
   "mimetype": "text/x-python",
   "name": "python",
   "nbconvert_exporter": "python",
   "pygments_lexer": "ipython3",
   "version": "3.7.6"
  }
 },
 "nbformat": 4,
 "nbformat_minor": 1
}
